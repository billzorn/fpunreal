{
 "cells": [
  {
   "cell_type": "code",
   "execution_count": null,
   "id": "8cc9a745",
   "metadata": {},
   "outputs": [],
   "source": [
    "import matplotlib.pyplot as plt\n",
    "\n",
    "import os, sys\n",
    "try:\n",
    "    _here = os.path.dirname(os.path.realpath(__file__))\n",
    "except NameError:\n",
    "    # WARNING: jupyter notebook hack\n",
    "    _here = globals()['_dh'][0]\n",
    "_top = os.path.realpath(os.path.join(_here, '..'))\n",
    "if _top not in sys.path:\n",
    "    sys.path.append(_top)\n",
    "    \n",
    "import titanfp.quantifind.viz as viz\n",
    "\n",
    "\n",
    "here = _top"
   ]
  },
  {
   "cell_type": "code",
   "execution_count": null,
   "id": "19a3c3a0",
   "metadata": {
    "scrolled": false
   },
   "outputs": [],
   "source": [
    "%matplotlib notebook\n",
    "import operator\n",
    "\n",
    "experiment = os.path.join(here, 'out/testcp/float')\n",
    "source = viz.SearchData(experiment)\n",
    "\n",
    "rk_avg_metrics = (operator.lt, None, operator.gt, None, None)\n",
    "metric_fns = rk_avg_metrics\n",
    "xidx = 0\n",
    "yidx = 2\n",
    "\n",
    "fig = viz.LivePlot(source, metric_fns, xidx, yidx, refresh=1000)"
   ]
  }
 ],
 "metadata": {
  "kernelspec": {
   "display_name": "Python 3",
   "language": "python",
   "name": "python3"
  },
  "language_info": {
   "codemirror_mode": {
    "name": "ipython",
    "version": 3
   },
   "file_extension": ".py",
   "mimetype": "text/x-python",
   "name": "python",
   "nbconvert_exporter": "python",
   "pygments_lexer": "ipython3",
   "version": "3.8.5"
  }
 },
 "nbformat": 4,
 "nbformat_minor": 5
}
